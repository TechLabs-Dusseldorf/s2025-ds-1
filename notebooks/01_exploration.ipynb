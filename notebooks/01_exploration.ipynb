{
 "cells": [
  {
   "cell_type": "code",
   "execution_count": 35,
   "id": "94493683",
   "metadata": {},
   "outputs": [
    {
     "name": "stdout",
     "output_type": "stream",
     "text": [
      "datetime64[ns]\n"
     ]
    },
    {
     "data": {
      "text/html": [
       "<div>\n",
       "<style scoped>\n",
       "    .dataframe tbody tr th:only-of-type {\n",
       "        vertical-align: middle;\n",
       "    }\n",
       "\n",
       "    .dataframe tbody tr th {\n",
       "        vertical-align: top;\n",
       "    }\n",
       "\n",
       "    .dataframe thead th {\n",
       "        text-align: right;\n",
       "    }\n",
       "</style>\n",
       "<table border=\"1\" class=\"dataframe\">\n",
       "  <thead>\n",
       "    <tr style=\"text-align: right;\">\n",
       "      <th></th>\n",
       "      <th>date</th>\n",
       "      <th>year</th>\n",
       "    </tr>\n",
       "  </thead>\n",
       "  <tbody>\n",
       "    <tr>\n",
       "      <th>0</th>\n",
       "      <td>2023-12-01</td>\n",
       "      <td>2023</td>\n",
       "    </tr>\n",
       "    <tr>\n",
       "      <th>1</th>\n",
       "      <td>2023-12-01</td>\n",
       "      <td>2023</td>\n",
       "    </tr>\n",
       "    <tr>\n",
       "      <th>2</th>\n",
       "      <td>2023-12-01</td>\n",
       "      <td>2023</td>\n",
       "    </tr>\n",
       "    <tr>\n",
       "      <th>3</th>\n",
       "      <td>2023-12-01</td>\n",
       "      <td>2023</td>\n",
       "    </tr>\n",
       "    <tr>\n",
       "      <th>4</th>\n",
       "      <td>2023-12-01</td>\n",
       "      <td>2023</td>\n",
       "    </tr>\n",
       "  </tbody>\n",
       "</table>\n",
       "</div>"
      ],
      "text/plain": [
       "        date  year\n",
       "0 2023-12-01  2023\n",
       "1 2023-12-01  2023\n",
       "2 2023-12-01  2023\n",
       "3 2023-12-01  2023\n",
       "4 2023-12-01  2023"
      ]
     },
     "execution_count": 35,
     "metadata": {},
     "output_type": "execute_result"
    }
   ],
   "source": [
    "# Exploration 1 - Checking the first cells \n",
    "import pandas as pd\n",
    "\n",
    "# code for loading the dataset\n",
    "df = pd.read_csv('/Users/tanjucoskun/s2025-ds-1/data/global_electricity_production_data.csv')\n",
    "\n",
    "# Step 2: Drop missing 'value' rows\n",
    "df_clean = df.dropna(subset=['value']).copy()\n",
    "\n",
    "# Step 3: Convert 'date' column to datetime\n",
    "df_clean['date'] = pd.to_datetime(df_clean['date'], errors='coerce')\n",
    "\n",
    "# Step 4: Drop rows where date conversion failed\n",
    "df_clean = df_clean[df_clean['date'].notnull()]\n",
    "\n",
    "# Step 5: Extract 'year' as integer\n",
    "df_clean['year'] = df_clean['date'].dt.year.astype(int)\n",
    "\n",
    "df_clean = df_clean.copy()\n",
    "df_clean['date'] = pd.to_datetime(df_clean['date'], errors='coerce')\n",
    "\n",
    "# Check if conversion worked\n",
    "print(df_clean['date'].dtype)  # Should be datetime64[ns]\n",
    "\n",
    "# Step 6: Confirm\n",
    "df_clean[['date', 'year']].head()\n"
   ]
  },
  {
   "cell_type": "code",
   "execution_count": 36,
   "id": "0203e549",
   "metadata": {},
   "outputs": [
    {
     "data": {
      "text/html": [
       "<div>\n",
       "<style scoped>\n",
       "    .dataframe tbody tr th:only-of-type {\n",
       "        vertical-align: middle;\n",
       "    }\n",
       "\n",
       "    .dataframe tbody tr th {\n",
       "        vertical-align: top;\n",
       "    }\n",
       "\n",
       "    .dataframe thead th {\n",
       "        text-align: right;\n",
       "    }\n",
       "</style>\n",
       "<table border=\"1\" class=\"dataframe\">\n",
       "  <thead>\n",
       "    <tr style=\"text-align: right;\">\n",
       "      <th></th>\n",
       "      <th>country_name</th>\n",
       "      <th>date</th>\n",
       "      <th>parameter</th>\n",
       "      <th>product</th>\n",
       "      <th>value</th>\n",
       "      <th>unit</th>\n",
       "    </tr>\n",
       "  </thead>\n",
       "  <tbody>\n",
       "    <tr>\n",
       "      <th>0</th>\n",
       "      <td>Australia</td>\n",
       "      <td>12/1/2023</td>\n",
       "      <td>Net Electricity Production</td>\n",
       "      <td>Electricity</td>\n",
       "      <td>22646.1901</td>\n",
       "      <td>GWh</td>\n",
       "    </tr>\n",
       "    <tr>\n",
       "      <th>1</th>\n",
       "      <td>Australia</td>\n",
       "      <td>12/1/2023</td>\n",
       "      <td>Net Electricity Production</td>\n",
       "      <td>Total Combustible Fuels</td>\n",
       "      <td>13397.9356</td>\n",
       "      <td>GWh</td>\n",
       "    </tr>\n",
       "    <tr>\n",
       "      <th>2</th>\n",
       "      <td>Australia</td>\n",
       "      <td>12/1/2023</td>\n",
       "      <td>Net Electricity Production</td>\n",
       "      <td>Coal, Peat and Manufactured Gases</td>\n",
       "      <td>9768.5223</td>\n",
       "      <td>GWh</td>\n",
       "    </tr>\n",
       "    <tr>\n",
       "      <th>3</th>\n",
       "      <td>Australia</td>\n",
       "      <td>12/1/2023</td>\n",
       "      <td>Net Electricity Production</td>\n",
       "      <td>Oil and Petroleum Products</td>\n",
       "      <td>289.5415</td>\n",
       "      <td>GWh</td>\n",
       "    </tr>\n",
       "    <tr>\n",
       "      <th>4</th>\n",
       "      <td>Australia</td>\n",
       "      <td>12/1/2023</td>\n",
       "      <td>Net Electricity Production</td>\n",
       "      <td>Natural Gas</td>\n",
       "      <td>3091.9272</td>\n",
       "      <td>GWh</td>\n",
       "    </tr>\n",
       "  </tbody>\n",
       "</table>\n",
       "</div>"
      ],
      "text/plain": [
       "  country_name       date                   parameter  \\\n",
       "0    Australia  12/1/2023  Net Electricity Production   \n",
       "1    Australia  12/1/2023  Net Electricity Production   \n",
       "2    Australia  12/1/2023  Net Electricity Production   \n",
       "3    Australia  12/1/2023  Net Electricity Production   \n",
       "4    Australia  12/1/2023  Net Electricity Production   \n",
       "\n",
       "                             product       value unit  \n",
       "0                        Electricity  22646.1901  GWh  \n",
       "1            Total Combustible Fuels  13397.9356  GWh  \n",
       "2  Coal, Peat and Manufactured Gases   9768.5223  GWh  \n",
       "3         Oil and Petroleum Products    289.5415  GWh  \n",
       "4                        Natural Gas   3091.9272  GWh  "
      ]
     },
     "execution_count": 36,
     "metadata": {},
     "output_type": "execute_result"
    }
   ],
   "source": [
    "\n",
    "# to display the rows to have a preview of the data df.head() code is only giving the first 5 rows by deafult!\n",
    "df.head()"
   ]
  },
  {
   "cell_type": "code",
   "execution_count": 37,
   "id": "4c97d0d5",
   "metadata": {},
   "outputs": [
    {
     "name": "stdout",
     "output_type": "stream",
     "text": [
      "Rows, Columns: (121074, 6)\n"
     ]
    }
   ],
   "source": [
    "# Exploration 2 - the amount of Rows and Columns ( structure of the chart)\n",
    "\n",
    "print(\"Rows, Columns:\", df.shape)\n"
   ]
  },
  {
   "cell_type": "code",
   "execution_count": 38,
   "id": "67031ad0",
   "metadata": {
    "scrolled": true
   },
   "outputs": [
    {
     "name": "stdout",
     "output_type": "stream",
     "text": [
      "\n",
      "Columns:\n",
      "Index(['country_name', 'date', 'parameter', 'product', 'value', 'unit'], dtype='object')\n"
     ]
    }
   ],
   "source": [
    "# Exploration 3 - name of the columns since there are 6 columns its better to list their names\n",
    "\n",
    "print(\"\\nColumns:\")\n",
    "print(df.columns)"
   ]
  },
  {
   "cell_type": "code",
   "execution_count": 39,
   "id": "803eef2c",
   "metadata": {},
   "outputs": [
    {
     "name": "stdout",
     "output_type": "stream",
     "text": [
      "\n",
      "Info:\n",
      "<class 'pandas.core.frame.DataFrame'>\n",
      "RangeIndex: 121074 entries, 0 to 121073\n",
      "Data columns (total 6 columns):\n",
      " #   Column        Non-Null Count   Dtype  \n",
      "---  ------        --------------   -----  \n",
      " 0   country_name  121074 non-null  object \n",
      " 1   date          121074 non-null  object \n",
      " 2   parameter     121074 non-null  object \n",
      " 3   product       121074 non-null  object \n",
      " 4   value         121060 non-null  float64\n",
      " 5   unit          121074 non-null  object \n",
      "dtypes: float64(1), object(5)\n",
      "memory usage: 5.5+ MB\n",
      "None\n"
     ]
    }
   ],
   "source": [
    "# Exploration 4 - data types and missing values if any\n",
    "\n",
    "print(\"\\nInfo:\")\n",
    "print(df.info())"
   ]
  },
  {
   "cell_type": "code",
   "execution_count": 40,
   "id": "fac76d38",
   "metadata": {
    "scrolled": true
   },
   "outputs": [
    {
     "name": "stdout",
     "output_type": "stream",
     "text": [
      "\n",
      "Missing values per column:\n",
      "country_name     0\n",
      "date             0\n",
      "parameter        0\n",
      "product          0\n",
      "value           14\n",
      "unit             0\n",
      "dtype: int64\n"
     ]
    }
   ],
   "source": [
    "# Exploration 5 - amount of missing values\n",
    "\n",
    "print(\"\\nMissing values per column:\")\n",
    "print(df.isnull().sum())\n"
   ]
  },
  {
   "cell_type": "code",
   "execution_count": 41,
   "id": "c37e705b",
   "metadata": {
    "scrolled": false
   },
   "outputs": [
    {
     "data": {
      "text/plain": [
       "country_name    0\n",
       "date            0\n",
       "parameter       0\n",
       "product         0\n",
       "value           0\n",
       "unit            0\n",
       "dtype: int64"
      ]
     },
     "execution_count": 41,
     "metadata": {},
     "output_type": "execute_result"
    }
   ],
   "source": [
    "# Cleaning the Data - removing the missing rows in \"Value\"\n",
    "\n",
    "df_clean = df.dropna(subset=['value'])\n",
    "\n",
    "# Cross-check if the data clean now\n",
    "df_clean.isnull().sum()"
   ]
  },
  {
   "cell_type": "code",
   "execution_count": 42,
   "id": "e7f63394",
   "metadata": {},
   "outputs": [
    {
     "data": {
      "text/plain": [
       "0"
      ]
     },
     "execution_count": 42,
     "metadata": {},
     "output_type": "execute_result"
    }
   ],
   "source": [
    "# Converting 'date column' (dtype: 'object' to 'datetime64'\n",
    "\n",
    "df_clean.loc[:, 'date'] = pd.to_datetime(df_clean['date'], errors='coerce')\n",
    "\n",
    "# test if there are any mising dates after\n",
    "df_clean['date'].isnull().sum()\n"
   ]
  },
  {
   "cell_type": "code",
   "execution_count": 43,
   "id": "2d0275fe",
   "metadata": {},
   "outputs": [
    {
     "name": "stdout",
     "output_type": "stream",
     "text": [
      "datetime64[ns]\n"
     ]
    }
   ],
   "source": [
    "df_clean = df_clean.copy()\n",
    "df_clean['date'] = pd.to_datetime(df_clean['date'], errors='coerce')\n",
    "\n",
    "# Check if conversion worked\n",
    "print(df_clean['date'].dtype)  # Should be datetime64[ns]"
   ]
  },
  {
   "cell_type": "code",
   "execution_count": 44,
   "id": "590dda1f",
   "metadata": {},
   "outputs": [],
   "source": [
    "# Here I had df_clean error 'year' column was not recognized and I had to re write this lines on top of the first line again.\n",
    "\n",
    "df_clean.loc[:, 'date'] = pd.to_datetime(df_clean['date'], errors='coerce')\n",
    "df_clean = df_clean[df_clean['date'].notnull()]\n",
    "df_clean['year'] = df_clean['date'].dt.year.astype(int)"
   ]
  },
  {
   "cell_type": "code",
   "execution_count": 45,
   "id": "82147ce2",
   "metadata": {},
   "outputs": [
    {
     "data": {
      "text/plain": [
       "Index(['country_name', 'date', 'parameter', 'product', 'value', 'unit',\n",
       "       'year'],\n",
       "      dtype='object')"
      ]
     },
     "execution_count": 45,
     "metadata": {},
     "output_type": "execute_result"
    }
   ],
   "source": [
    "# Issue fixed - 'year' column is now visible\n",
    "df_clean.columns"
   ]
  },
  {
   "cell_type": "code",
   "execution_count": 46,
   "id": "768aac4a",
   "metadata": {},
   "outputs": [
    {
     "data": {
      "image/png": "[encoded data removed]",
      "text/plain": [
       "<Figure size 1000x600 with 1 Axes>"
      ]
     },
     "metadata": {},
     "output_type": "display_data"
    }
   ],
   "source": [
    "import matplotlib.pyplot as plt\n",
    "\n",
    "# Group by year and sum the 'value' column\n",
    "yearly_production = df_clean.groupby('year')['value'].sum().reset_index()\n",
    "\n",
    "# Plot\n",
    "plt.figure(figsize=(10, 6))\n",
    "plt.plot(yearly_production['year'], yearly_production['value'], marker='o')\n",
    "\n",
    "plt.title('Global Electricity Production Over Time')\n",
    "plt.xlabel('Year')\n",
    "plt.ylabel('Total Electricity Production (GWh)')\n",
    "plt.grid(True)\n",
    "plt.tight_layout()\n",
    "plt.show()"
   ]
  },
  {
   "cell_type": "code",
   "execution_count": 47,
   "id": "530a19da",
   "metadata": {},
   "outputs": [
    {
     "data": {
      "text/html": [
       "<div>\n",
       "<style scoped>\n",
       "    .dataframe tbody tr th:only-of-type {\n",
       "        vertical-align: middle;\n",
       "    }\n",
       "\n",
       "    .dataframe tbody tr th {\n",
       "        vertical-align: top;\n",
       "    }\n",
       "\n",
       "    .dataframe thead th {\n",
       "        text-align: right;\n",
       "    }\n",
       "</style>\n",
       "<table border=\"1\" class=\"dataframe\">\n",
       "  <thead>\n",
       "    <tr style=\"text-align: right;\">\n",
       "      <th></th>\n",
       "      <th>year</th>\n",
       "      <th>value</th>\n",
       "    </tr>\n",
       "  </thead>\n",
       "  <tbody>\n",
       "    <tr>\n",
       "      <th>0</th>\n",
       "      <td>2010</td>\n",
       "      <td>4.049677e+07</td>\n",
       "    </tr>\n",
       "    <tr>\n",
       "      <th>1</th>\n",
       "      <td>2011</td>\n",
       "      <td>4.059139e+07</td>\n",
       "    </tr>\n",
       "    <tr>\n",
       "      <th>2</th>\n",
       "      <td>2012</td>\n",
       "      <td>4.082690e+07</td>\n",
       "    </tr>\n",
       "    <tr>\n",
       "      <th>3</th>\n",
       "      <td>2013</td>\n",
       "      <td>4.083009e+07</td>\n",
       "    </tr>\n",
       "    <tr>\n",
       "      <th>4</th>\n",
       "      <td>2014</td>\n",
       "      <td>4.110371e+07</td>\n",
       "    </tr>\n",
       "  </tbody>\n",
       "</table>\n",
       "</div>"
      ],
      "text/plain": [
       "   year         value\n",
       "0  2010  4.049677e+07\n",
       "1  2011  4.059139e+07\n",
       "2  2012  4.082690e+07\n",
       "3  2013  4.083009e+07\n",
       "4  2014  4.110371e+07"
      ]
     },
     "execution_count": 47,
     "metadata": {},
     "output_type": "execute_result"
    }
   ],
   "source": [
    "# code - yearly production per year\n",
    "yearly_production = df_clean.groupby('year')['value'].sum().reset_index()\n",
    "\n",
    "# result\n",
    "yearly_production.head()"
   ]
  },
  {
   "cell_type": "code",
   "execution_count": 48,
   "id": "418b9865",
   "metadata": {},
   "outputs": [
    {
     "data": {
      "text/plain": [
       "array(['Net Electricity Production', 'Used for pumped storage',\n",
       "       'Distribution Losses', 'Final Consumption (Calculated)',\n",
       "       'Total Imports', 'Total Exports'], dtype=object)"
      ]
     },
     "execution_count": 48,
     "metadata": {},
     "output_type": "execute_result"
    }
   ],
   "source": [
    "\n",
    "# check-balance categories 1 > categories\n",
    "df_clean['parameter'].unique()"
   ]
  },
  {
   "cell_type": "code",
   "execution_count": 49,
   "id": "a1e1e7cd",
   "metadata": {},
   "outputs": [
    {
     "data": {
      "text/plain": [
       "parameter\n",
       "Used for pumped storage           1.233267e+06\n",
       "Total Exports                     6.699914e+06\n",
       "Total Imports                     6.818840e+06\n",
       "Distribution Losses               9.105886e+06\n",
       "Final Consumption (Calculated)    1.375341e+08\n",
       "Net Electricity Production        6.769583e+08\n",
       "Name: value, dtype: float64"
      ]
     },
     "execution_count": 49,
     "metadata": {},
     "output_type": "execute_result"
    }
   ],
   "source": [
    "# check-balance categories 2 > total values\n",
    "df_clean.groupby('parameter')['value'].sum().sort_values(ascending=True)\n"
   ]
  },
  {
   "cell_type": "code",
   "execution_count": 50,
   "id": "9edb7a61",
   "metadata": {},
   "outputs": [
    {
     "data": {
      "text/plain": [
       "country_name\n",
       "Malta               48680.8822\n",
       "Cyprus             129982.7781\n",
       "Costa Rica         146269.5777\n",
       "North Macedonia    146513.0323\n",
       "Luxembourg         351860.0673\n",
       "Name: value, dtype: float64"
      ]
     },
     "execution_count": 50,
     "metadata": {},
     "output_type": "execute_result"
    }
   ],
   "source": [
    "# what I wanted to check apart form the assignment\n",
    "# countries with highest total energy production (Lowest 5)\n",
    "\n",
    "top_countries = df_clean.groupby('country_name')['value'].sum().sort_values(ascending=True).head(5)\n",
    "top_countries"
   ]
  },
  {
   "cell_type": "code",
   "execution_count": 51,
   "id": "eb80b575",
   "metadata": {},
   "outputs": [
    {
     "data": {
      "text/plain": [
       "country_name\n",
       "United States    2.240113e+08\n",
       "China            1.921116e+08\n",
       "Japan            5.691577e+07\n",
       "India            4.041455e+07\n",
       "Canada           3.434354e+07\n",
       "Name: value, dtype: float64"
      ]
     },
     "execution_count": 51,
     "metadata": {},
     "output_type": "execute_result"
    }
   ],
   "source": [
    "# countries with highest total energy production (Top 5)\n",
    "\n",
    "top_countries = df_clean.groupby('country_name')['value'].sum().sort_values(ascending=False).head(5)\n",
    "top_countries\n"
   ]
  },
  {
   "cell_type": "code",
   "execution_count": 54,
   "id": "ba4d3d04",
   "metadata": {},
   "outputs": [],
   "source": [
    "# for the next question saving the names of the top 5 countries\n",
    "top_country_list = top_countries.index.tolist()"
   ]
  },
  {
   "cell_type": "code",
   "execution_count": 75,
   "id": "e330fe80",
   "metadata": {},
   "outputs": [
    {
     "name": "stdout",
     "output_type": "stream",
     "text": [
      "['United States', 'China', 'Japan', 'India', 'Canada']\n"
     ]
    },
    {
     "data": {
      "text/plain": [
       "country_name\n",
       "Canada            10718.957741\n",
       "China            120370.698323\n",
       "India             26107.593299\n",
       "Japan             19118.498751\n",
       "United States     69139.288868\n",
       "Name: value, dtype: float64"
      ]
     },
     "execution_count": 75,
     "metadata": {},
     "output_type": "execute_result"
    }
   ],
   "source": [
    "\n",
    "# filtering the date for the 'top 5' only\n",
    "top_country_data = df_clean[df_clean['country_name'].isin(top_country_list)]\n",
    "\n",
    "print(top_country_list)\n",
    "\n",
    "\n",
    "# extracting avg monthly per top 5 countries \n",
    "avg_monthly = top_country_data.groupby('country_name')['value'].mean()\n",
    "avg_monthly\n"
   ]
  },
  {
   "cell_type": "code",
   "execution_count": 56,
   "id": "110f373e",
   "metadata": {},
   "outputs": [
    {
     "data": {
      "text/plain": [
       "product\n",
       "Electricity                          3.952399e+08\n",
       "Total Combustible Fuels              1.441409e+08\n",
       "Coal, Peat and Manufactured Gases    9.035597e+07\n",
       "Name: value, dtype: float64"
      ]
     },
     "execution_count": 56,
     "metadata": {},
     "output_type": "execute_result"
    }
   ],
   "source": [
    "# dominant energy sources\n",
    "top_products = df_clean.groupby('product')['value'].sum().sort_values(ascending=False).head(3)\n",
    "top_products\n"
   ]
  },
  {
   "cell_type": "code",
   "execution_count": 57,
   "id": "520f8ed2",
   "metadata": {},
   "outputs": [],
   "source": [
    "# product names saved as another list\n",
    "top_product_list = top_products.index.tolist()\n"
   ]
  },
  {
   "cell_type": "code",
   "execution_count": 98,
   "id": "a495b675",
   "metadata": {},
   "outputs": [
    {
     "data": {
      "text/html": [
       "<div>\n",
       "<style scoped>\n",
       "    .dataframe tbody tr th:only-of-type {\n",
       "        vertical-align: middle;\n",
       "    }\n",
       "\n",
       "    .dataframe tbody tr th {\n",
       "        vertical-align: top;\n",
       "    }\n",
       "\n",
       "    .dataframe thead th {\n",
       "        text-align: right;\n",
       "    }\n",
       "</style>\n",
       "<table border=\"1\" class=\"dataframe\">\n",
       "  <thead>\n",
       "    <tr style=\"text-align: right;\">\n",
       "      <th></th>\n",
       "      <th>year</th>\n",
       "      <th>product</th>\n",
       "      <th>value</th>\n",
       "      <th>total_value</th>\n",
       "      <th>%</th>\n",
       "    </tr>\n",
       "  </thead>\n",
       "  <tbody>\n",
       "    <tr>\n",
       "      <th>0</th>\n",
       "      <td>2010</td>\n",
       "      <td>Coal, Peat and Manufactured Gases</td>\n",
       "      <td>3.484643e+06</td>\n",
       "      <td>4.049677e+07</td>\n",
       "      <td>8.604743</td>\n",
       "    </tr>\n",
       "    <tr>\n",
       "      <th>1</th>\n",
       "      <td>2010</td>\n",
       "      <td>Electricity</td>\n",
       "      <td>2.165300e+07</td>\n",
       "      <td>4.049677e+07</td>\n",
       "      <td>53.468455</td>\n",
       "    </tr>\n",
       "    <tr>\n",
       "      <th>2</th>\n",
       "      <td>2010</td>\n",
       "      <td>Total Combustible Fuels</td>\n",
       "      <td>6.454244e+06</td>\n",
       "      <td>4.049677e+07</td>\n",
       "      <td>15.937676</td>\n",
       "    </tr>\n",
       "    <tr>\n",
       "      <th>3</th>\n",
       "      <td>2011</td>\n",
       "      <td>Coal, Peat and Manufactured Gases</td>\n",
       "      <td>3.394687e+06</td>\n",
       "      <td>4.059139e+07</td>\n",
       "      <td>8.363073</td>\n",
       "    </tr>\n",
       "    <tr>\n",
       "      <th>4</th>\n",
       "      <td>2011</td>\n",
       "      <td>Electricity</td>\n",
       "      <td>2.165675e+07</td>\n",
       "      <td>4.059139e+07</td>\n",
       "      <td>53.353066</td>\n",
       "    </tr>\n",
       "  </tbody>\n",
       "</table>\n",
       "</div>"
      ],
      "text/plain": [
       "   year                            product         value   total_value  \\\n",
       "0  2010  Coal, Peat and Manufactured Gases  3.484643e+06  4.049677e+07   \n",
       "1  2010                        Electricity  2.165300e+07  4.049677e+07   \n",
       "2  2010            Total Combustible Fuels  6.454244e+06  4.049677e+07   \n",
       "3  2011  Coal, Peat and Manufactured Gases  3.394687e+06  4.059139e+07   \n",
       "4  2011                        Electricity  2.165675e+07  4.059139e+07   \n",
       "\n",
       "           %  \n",
       "0   8.604743  \n",
       "1  53.468455  \n",
       "2  15.937676  \n",
       "3   8.363073  \n",
       "4  53.353066  "
      ]
     },
     "execution_count": 98,
     "metadata": {},
     "output_type": "execute_result"
    }
   ],
   "source": [
    "# dominant energy sources - share changes year on year  \n",
    "# filter - top 3 products\n",
    "top_product_data = df_clean[df_clean['product'].isin(top_product_list)]\n",
    "\n",
    "# table sorted by 'year' and contains 'year', 'product' and 'value' ( here 'value's are per year)\n",
    "product_share = top_product_data.groupby(['year', 'product'])['value'].sum().reset_index()\n",
    "\n",
    "# creating total_value column per top 3 products (here we are adding 'sum value for all years')\n",
    "total_by_year = df_clean.groupby('year')['value'].sum().reset_index().rename(columns={'value': 'total_value'})\n",
    "\n",
    "# merging the new 'total_value' column to the 'product_share' table\n",
    "merged = product_share.merge(total_by_year, on='year')\n",
    "\n",
    "# merging '%' column to show the percentage share of the values\n",
    "merged['%'] = (merged['value'] / merged['total_value']) * 100\n",
    "\n",
    "# check\n",
    "merged.head(5)"
   ]
  },
  {
   "cell_type": "code",
   "execution_count": null,
   "id": "09422bde",
   "metadata": {},
   "outputs": [],
   "source": []
  },
  {
   "cell_type": "code",
   "execution_count": null,
   "id": "45e9b0c9",
   "metadata": {},
   "outputs": [],
   "source": []
  },
  {
   "cell_type": "code",
   "execution_count": null,
   "id": "62b667f7",
   "metadata": {},
   "outputs": [],
   "source": []
  }
 ],
 "metadata": {
  "kernelspec": {
   "display_name": "Python 3 (ipykernel)",
   "language": "python",
   "name": "python3"
  },
  "language_info": {
   "codemirror_mode": {
    "name": "ipython",
    "version": 3
   },
   "file_extension": ".py",
   "mimetype": "text/x-python",
   "name": "python",
   "nbconvert_exporter": "python",
   "pygments_lexer": "ipython3",
   "version": "3.11.7"
  }
 },
 "nbformat": 4,
 "nbformat_minor": 5
}
