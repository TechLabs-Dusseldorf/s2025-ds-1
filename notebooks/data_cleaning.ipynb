{
 "cells": [
  {
   "cell_type": "code",
   "execution_count": 3,
   "id": "903a17d2",
   "metadata": {},
   "outputs": [],
   "source": [
    "import pandas as pd"
   ]
  },
  {
   "cell_type": "code",
   "execution_count": 5,
   "id": "b3f58d12",
   "metadata": {},
   "outputs": [],
   "source": [
    "df = pd.read_csv(\"../data/raw/global_electricity_production_data.csv\")"
   ]
  },
  {
   "cell_type": "code",
   "execution_count": 8,
   "id": "4b3689c3",
   "metadata": {},
   "outputs": [
    {
     "data": {
      "text/html": [
       "<div>\n",
       "<style scoped>\n",
       "    .dataframe tbody tr th:only-of-type {\n",
       "        vertical-align: middle;\n",
       "    }\n",
       "\n",
       "    .dataframe tbody tr th {\n",
       "        vertical-align: top;\n",
       "    }\n",
       "\n",
       "    .dataframe thead th {\n",
       "        text-align: right;\n",
       "    }\n",
       "</style>\n",
       "<table border=\"1\" class=\"dataframe\">\n",
       "  <thead>\n",
       "    <tr style=\"text-align: right;\">\n",
       "      <th></th>\n",
       "      <th>country_name</th>\n",
       "      <th>date</th>\n",
       "      <th>parameter</th>\n",
       "      <th>product</th>\n",
       "      <th>value</th>\n",
       "      <th>unit</th>\n",
       "    </tr>\n",
       "  </thead>\n",
       "  <tbody>\n",
       "    <tr>\n",
       "      <th>0</th>\n",
       "      <td>Australia</td>\n",
       "      <td>2023-12-01</td>\n",
       "      <td>Net Electricity Production</td>\n",
       "      <td>Electricity</td>\n",
       "      <td>22646.1901</td>\n",
       "      <td>GWh</td>\n",
       "    </tr>\n",
       "    <tr>\n",
       "      <th>1</th>\n",
       "      <td>Australia</td>\n",
       "      <td>2023-12-01</td>\n",
       "      <td>Net Electricity Production</td>\n",
       "      <td>Total Combustible Fuels</td>\n",
       "      <td>13397.9356</td>\n",
       "      <td>GWh</td>\n",
       "    </tr>\n",
       "    <tr>\n",
       "      <th>2</th>\n",
       "      <td>Australia</td>\n",
       "      <td>2023-12-01</td>\n",
       "      <td>Net Electricity Production</td>\n",
       "      <td>Coal, Peat and Manufactured Gases</td>\n",
       "      <td>9768.5223</td>\n",
       "      <td>GWh</td>\n",
       "    </tr>\n",
       "    <tr>\n",
       "      <th>3</th>\n",
       "      <td>Australia</td>\n",
       "      <td>2023-12-01</td>\n",
       "      <td>Net Electricity Production</td>\n",
       "      <td>Oil and Petroleum Products</td>\n",
       "      <td>289.5415</td>\n",
       "      <td>GWh</td>\n",
       "    </tr>\n",
       "    <tr>\n",
       "      <th>4</th>\n",
       "      <td>Australia</td>\n",
       "      <td>2023-12-01</td>\n",
       "      <td>Net Electricity Production</td>\n",
       "      <td>Natural Gas</td>\n",
       "      <td>3091.9272</td>\n",
       "      <td>GWh</td>\n",
       "    </tr>\n",
       "  </tbody>\n",
       "</table>\n",
       "</div>"
      ],
      "text/plain": [
       "  country_name       date                   parameter  \\\n",
       "0    Australia 2023-12-01  Net Electricity Production   \n",
       "1    Australia 2023-12-01  Net Electricity Production   \n",
       "2    Australia 2023-12-01  Net Electricity Production   \n",
       "3    Australia 2023-12-01  Net Electricity Production   \n",
       "4    Australia 2023-12-01  Net Electricity Production   \n",
       "\n",
       "                             product       value unit  \n",
       "0                        Electricity  22646.1901  GWh  \n",
       "1            Total Combustible Fuels  13397.9356  GWh  \n",
       "2  Coal, Peat and Manufactured Gases   9768.5223  GWh  \n",
       "3         Oil and Petroleum Products    289.5415  GWh  \n",
       "4                        Natural Gas   3091.9272  GWh  "
      ]
     },
     "execution_count": 8,
     "metadata": {},
     "output_type": "execute_result"
    }
   ],
   "source": [
    "df.head()"
   ]
  },
  {
   "cell_type": "code",
   "execution_count": 8,
   "id": "2ddb0c33",
   "metadata": {},
   "outputs": [
    {
     "data": {
      "text/plain": [
       "country_name     object\n",
       "date             object\n",
       "parameter        object\n",
       "product          object\n",
       "value           float64\n",
       "unit             object\n",
       "dtype: object"
      ]
     },
     "execution_count": 8,
     "metadata": {},
     "output_type": "execute_result"
    }
   ],
   "source": [
    "df.dtypes"
   ]
  },
  {
   "cell_type": "code",
   "execution_count": null,
   "id": "79b74caa",
   "metadata": {},
   "outputs": [],
   "source": [
    "# Convert 'date' column to datetime format Month/Day/Year\n",
    "df[\"date\"] = pd.to_datetime(df[\"date\"], format=\"%m/%d/%Y\")"
   ]
  },
  {
   "cell_type": "code",
   "execution_count": 3,
   "id": "055f980f",
   "metadata": {},
   "outputs": [
    {
     "data": {
      "text/plain": [
       "country_name     0\n",
       "date             0\n",
       "parameter        0\n",
       "product          0\n",
       "value           14\n",
       "unit             0\n",
       "dtype: int64"
      ]
     },
     "execution_count": 3,
     "metadata": {},
     "output_type": "execute_result"
    }
   ],
   "source": [
    "# Check for missing values in the entire DataFrame\n",
    "df.isnull().sum()"
   ]
  },
  {
   "cell_type": "code",
   "execution_count": null,
   "id": "ba065bf1",
   "metadata": {},
   "outputs": [
    {
     "data": {
      "text/html": [
       "<div>\n",
       "<style scoped>\n",
       "    .dataframe tbody tr th:only-of-type {\n",
       "        vertical-align: middle;\n",
       "    }\n",
       "\n",
       "    .dataframe tbody tr th {\n",
       "        vertical-align: top;\n",
       "    }\n",
       "\n",
       "    .dataframe thead th {\n",
       "        text-align: right;\n",
       "    }\n",
       "</style>\n",
       "<table border=\"1\" class=\"dataframe\">\n",
       "  <thead>\n",
       "    <tr style=\"text-align: right;\">\n",
       "      <th></th>\n",
       "      <th>country_name</th>\n",
       "      <th>date</th>\n",
       "      <th>parameter</th>\n",
       "      <th>product</th>\n",
       "      <th>value</th>\n",
       "      <th>unit</th>\n",
       "    </tr>\n",
       "  </thead>\n",
       "  <tbody>\n",
       "    <tr>\n",
       "      <th>67</th>\n",
       "      <td>Chile</td>\n",
       "      <td>12/1/2023</td>\n",
       "      <td>Remarks</td>\n",
       "      <td>Data is estimated for this month</td>\n",
       "      <td>NaN</td>\n",
       "      <td>GWh</td>\n",
       "    </tr>\n",
       "    <tr>\n",
       "      <th>94</th>\n",
       "      <td>Costa Rica</td>\n",
       "      <td>12/1/2023</td>\n",
       "      <td>Remarks</td>\n",
       "      <td>Data is estimated for this month</td>\n",
       "      <td>NaN</td>\n",
       "      <td>GWh</td>\n",
       "    </tr>\n",
       "    <tr>\n",
       "      <th>285</th>\n",
       "      <td>Japan</td>\n",
       "      <td>12/1/2023</td>\n",
       "      <td>Remarks</td>\n",
       "      <td>Data is estimated for this month</td>\n",
       "      <td>NaN</td>\n",
       "      <td>GWh</td>\n",
       "    </tr>\n",
       "    <tr>\n",
       "      <th>804</th>\n",
       "      <td>Costa Rica</td>\n",
       "      <td>11/1/2023</td>\n",
       "      <td>Remarks</td>\n",
       "      <td>Data is estimated for this month</td>\n",
       "      <td>NaN</td>\n",
       "      <td>GWh</td>\n",
       "    </tr>\n",
       "    <tr>\n",
       "      <th>1517</th>\n",
       "      <td>Costa Rica</td>\n",
       "      <td>10/1/2023</td>\n",
       "      <td>Remarks</td>\n",
       "      <td>Data is estimated for this month</td>\n",
       "      <td>NaN</td>\n",
       "      <td>GWh</td>\n",
       "    </tr>\n",
       "    <tr>\n",
       "      <th>2230</th>\n",
       "      <td>Costa Rica</td>\n",
       "      <td>9/1/2023</td>\n",
       "      <td>Remarks</td>\n",
       "      <td>Data is estimated for this month</td>\n",
       "      <td>NaN</td>\n",
       "      <td>GWh</td>\n",
       "    </tr>\n",
       "    <tr>\n",
       "      <th>2944</th>\n",
       "      <td>Costa Rica</td>\n",
       "      <td>8/1/2023</td>\n",
       "      <td>Remarks</td>\n",
       "      <td>Data is estimated for this month</td>\n",
       "      <td>NaN</td>\n",
       "      <td>GWh</td>\n",
       "    </tr>\n",
       "    <tr>\n",
       "      <th>3659</th>\n",
       "      <td>Costa Rica</td>\n",
       "      <td>7/1/2023</td>\n",
       "      <td>Remarks</td>\n",
       "      <td>Data is estimated for this month</td>\n",
       "      <td>NaN</td>\n",
       "      <td>GWh</td>\n",
       "    </tr>\n",
       "    <tr>\n",
       "      <th>4375</th>\n",
       "      <td>Costa Rica</td>\n",
       "      <td>6/1/2023</td>\n",
       "      <td>Remarks</td>\n",
       "      <td>Data is estimated for this month</td>\n",
       "      <td>NaN</td>\n",
       "      <td>GWh</td>\n",
       "    </tr>\n",
       "    <tr>\n",
       "      <th>5090</th>\n",
       "      <td>Costa Rica</td>\n",
       "      <td>5/1/2023</td>\n",
       "      <td>Remarks</td>\n",
       "      <td>Data is estimated for this month</td>\n",
       "      <td>NaN</td>\n",
       "      <td>GWh</td>\n",
       "    </tr>\n",
       "    <tr>\n",
       "      <th>5805</th>\n",
       "      <td>Costa Rica</td>\n",
       "      <td>4/1/2023</td>\n",
       "      <td>Remarks</td>\n",
       "      <td>Data is estimated for this month</td>\n",
       "      <td>NaN</td>\n",
       "      <td>GWh</td>\n",
       "    </tr>\n",
       "    <tr>\n",
       "      <th>6523</th>\n",
       "      <td>Costa Rica</td>\n",
       "      <td>3/1/2023</td>\n",
       "      <td>Remarks</td>\n",
       "      <td>Data is estimated for this month</td>\n",
       "      <td>NaN</td>\n",
       "      <td>GWh</td>\n",
       "    </tr>\n",
       "    <tr>\n",
       "      <th>7242</th>\n",
       "      <td>Costa Rica</td>\n",
       "      <td>2/1/2023</td>\n",
       "      <td>Remarks</td>\n",
       "      <td>Data is estimated for this month</td>\n",
       "      <td>NaN</td>\n",
       "      <td>GWh</td>\n",
       "    </tr>\n",
       "    <tr>\n",
       "      <th>7961</th>\n",
       "      <td>Costa Rica</td>\n",
       "      <td>1/1/2023</td>\n",
       "      <td>Remarks</td>\n",
       "      <td>Data is estimated for this month</td>\n",
       "      <td>NaN</td>\n",
       "      <td>GWh</td>\n",
       "    </tr>\n",
       "  </tbody>\n",
       "</table>\n",
       "</div>"
      ],
      "text/plain": [
       "     country_name       date parameter                           product  \\\n",
       "67          Chile  12/1/2023   Remarks  Data is estimated for this month   \n",
       "94     Costa Rica  12/1/2023   Remarks  Data is estimated for this month   \n",
       "285         Japan  12/1/2023   Remarks  Data is estimated for this month   \n",
       "804    Costa Rica  11/1/2023   Remarks  Data is estimated for this month   \n",
       "1517   Costa Rica  10/1/2023   Remarks  Data is estimated for this month   \n",
       "2230   Costa Rica   9/1/2023   Remarks  Data is estimated for this month   \n",
       "2944   Costa Rica   8/1/2023   Remarks  Data is estimated for this month   \n",
       "3659   Costa Rica   7/1/2023   Remarks  Data is estimated for this month   \n",
       "4375   Costa Rica   6/1/2023   Remarks  Data is estimated for this month   \n",
       "5090   Costa Rica   5/1/2023   Remarks  Data is estimated for this month   \n",
       "5805   Costa Rica   4/1/2023   Remarks  Data is estimated for this month   \n",
       "6523   Costa Rica   3/1/2023   Remarks  Data is estimated for this month   \n",
       "7242   Costa Rica   2/1/2023   Remarks  Data is estimated for this month   \n",
       "7961   Costa Rica   1/1/2023   Remarks  Data is estimated for this month   \n",
       "\n",
       "      value unit  \n",
       "67      NaN  GWh  \n",
       "94      NaN  GWh  \n",
       "285     NaN  GWh  \n",
       "804     NaN  GWh  \n",
       "1517    NaN  GWh  \n",
       "2230    NaN  GWh  \n",
       "2944    NaN  GWh  \n",
       "3659    NaN  GWh  \n",
       "4375    NaN  GWh  \n",
       "5090    NaN  GWh  \n",
       "5805    NaN  GWh  \n",
       "6523    NaN  GWh  \n",
       "7242    NaN  GWh  \n",
       "7961    NaN  GWh  "
      ]
     },
     "execution_count": 4,
     "metadata": {},
     "output_type": "execute_result"
    }
   ],
   "source": [
    "# Check for missing values in the \"value\" column to see the impact of the conversion\n",
    "df[df[\"value\"].isnull()]"
   ]
  },
  {
   "cell_type": "code",
   "execution_count": null,
   "id": "ae692d55",
   "metadata": {},
   "outputs": [],
   "source": [
    "# Drop rows with missing data in column: \"value\"\n",
    "df = df.dropna(subset=[\"value\"])"
   ]
  },
  {
   "cell_type": "code",
   "execution_count": null,
   "id": "5f10efbf",
   "metadata": {},
   "outputs": [
    {
     "name": "stdout",
     "output_type": "stream",
     "text": [
      "['Australia' 'Austria' 'Belgium' 'Canada' 'Chile' 'Colombia' 'Costa Rica'\n",
      " 'Czech Republic' 'Denmark' 'Estonia' 'Finland' 'France' 'Germany'\n",
      " 'Greece' 'Hungary' 'Iceland' 'Ireland' 'Italy' 'Japan' 'Korea' 'Latvia'\n",
      " 'Lithuania' 'Luxembourg' 'Mexico' 'Netherlands' 'New Zealand' 'Norway'\n",
      " 'Poland' 'Portugal' 'Slovak Republic' 'Slovenia' 'Spain' 'Sweden'\n",
      " 'Switzerland' 'Turkey' 'United Kingdom' 'United States' 'Argentina'\n",
      " 'Brazil' 'Bulgaria' 'China' 'Croatia' 'Cyprus' 'India' 'Malta'\n",
      " 'North Macedonia' 'Peru' 'Serbia'] \n",
      "\n"
     ]
    }
   ],
   "source": [
    "# check whether all values are the same\n",
    "print(df[\"country_name\"].unique())"
   ]
  },
  {
   "cell_type": "code",
   "execution_count": null,
   "id": "a5952fa8",
   "metadata": {},
   "outputs": [
    {
     "name": "stdout",
     "output_type": "stream",
     "text": [
      "Total number of invalid dates found: 0\n",
      "Invalid or impossible dates:\n",
      "[]\n"
     ]
    }
   ],
   "source": [
    "# Check for impossible dates (e.g., February 30th, April 31st)\n",
    "def is_valid_date(date_str):\n",
    "    try:\n",
    "        pd.to_datetime(date_str, errors='raise')\n",
    "        return True\n",
    "    except:\n",
    "        return False\n",
    "\n",
    "# Apply the function to the 'date' column and filter out invalid dates\n",
    "df['valid_date'] = df['date'].apply(is_valid_date)\n",
    "invalid_dates = df[df['valid_date'] == False]\n",
    "\n",
    "print(\"Total number of invalid dates found:\", len(invalid_dates))\n",
    "print(\"Invalid or impossible dates:\")\n",
    "print(invalid_dates['date'].to_list())"
   ]
  },
  {
   "cell_type": "code",
   "execution_count": null,
   "id": "42da162d",
   "metadata": {},
   "outputs": [
    {
     "name": "stdout",
     "output_type": "stream",
     "text": [
      "['Net Electricity Production' 'Used for pumped storage'\n",
      " 'Distribution Losses' 'Final Consumption (Calculated)' 'Total Imports'\n",
      " 'Total Exports' 'Remarks']\n"
     ]
    }
   ],
   "source": [
    "# Check for unique values in the \"parameter\" column\n",
    "print(df[\"parameter\"].unique())"
   ]
  },
  {
   "cell_type": "code",
   "execution_count": null,
   "id": "e6db2609",
   "metadata": {},
   "outputs": [
    {
     "name": "stdout",
     "output_type": "stream",
     "text": [
      "['Electricity' 'Total Combustible Fuels'\n",
      " 'Coal, Peat and Manufactured Gases' 'Oil and Petroleum Products'\n",
      " 'Natural Gas' 'Combustible Renewables' 'Hydro' 'Wind' 'Solar'\n",
      " 'Total Renewables (Hydro, Geo, Solar, Wind, Other)'\n",
      " 'Other Combustible Non-Renewables' 'Geothermal' 'Not Specified' 'Nuclear'\n",
      " 'Data is estimated for this month' 'Other Renewables']\n"
     ]
    }
   ],
   "source": [
    "# Check for unique values in the \"product\" column\n",
    "print(df[\"product\"].unique())"
   ]
  }
 ],
 "metadata": {
  "kernelspec": {
   "display_name": ".venv",
   "language": "python",
   "name": "python3"
  },
  "language_info": {
   "codemirror_mode": {
    "name": "ipython",
    "version": 3
   },
   "file_extension": ".py",
   "mimetype": "text/x-python",
   "name": "python",
   "nbconvert_exporter": "python",
   "pygments_lexer": "ipython3",
   "version": "3.13.5"
  }
 },
 "nbformat": 4,
 "nbformat_minor": 5
}
